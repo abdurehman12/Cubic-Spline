{
  "nbformat": 4,
  "nbformat_minor": 0,
  "metadata": {
    "colab": {
      "name": "Lagrange.ipynb",
      "provenance": []
    },
    "kernelspec": {
      "name": "python3",
      "display_name": "Python 3"
    },
    "language_info": {
      "name": "python"
    }
  },
  "cells": [
    {
      "cell_type": "code",
      "metadata": {
        "id": "RrQfC8Foknjd",
        "colab": {
          "base_uri": "https://localhost:8080/",
          "height": 496
        },
        "outputId": "b6da2ec7-4e71-4701-b1e7-d10db265fa29"
      },
      "source": [
        "from math import exp as e\n",
        "from math import cos as cos\n",
        "import math\n",
        "from sympy import *\n",
        "from math import *\n",
        "from __future__ import division\n",
        "from sympy import *\n",
        "import matplotlib.pyplot as plt\n",
        "import numpy as np\n",
        "from scipy.interpolate import lagrange\n",
        "\n",
        "fx = '(exp(x) + 2**-x+ 2*cos(x) - 6)'\n",
        "f= lambda x: eval(fx)\n",
        "interval_start= input(\"enter starting point: \")\n",
        "interval_end= input(\"enter ending point: \")\n",
        "n= int(input(\"enter n: \"))\n",
        "x=[]\n",
        "y_values=[]\n",
        "difference= (int(interval_end) - int(interval_start))/int(n)\n",
        "for i in range(n+1):\n",
        "  x.append(int(interval_start) + i*difference)\n",
        "for i in x:\n",
        "  y_values.append(f(i))\n",
        "\n",
        "poly = lagrange(x, y_values)\n",
        "print(poly)\n",
        "lang_vals=poly(x)\n",
        "print(lang_vals)\n",
        "E=y_values-lang_vals\n",
        "plt.plot(x,lang_vals, 'ro-', label='Langrange')\n",
        "plt.title(\"Langrange Plot\")\n",
        "plt.xlabel(\"X values\")\n",
        "plt.ylabel(\"F(x)\")\n",
        "plt.show()\n",
        "plt.clf()"
      ],
      "execution_count": 4,
      "outputs": [
        {
          "output_type": "stream",
          "name": "stdout",
          "text": [
            "enter starting point: -2\n",
            "enter ending point: 2\n",
            "enter n: 10\n",
            "            10             9             8             7            6\n",
            "-2.137e-07 x  + 2.879e-06 x + 7.556e-05 x + 0.0001825 x - 0.001235 x\n",
            "             5          4          3          2\n",
            " + 0.007001 x + 0.1346 x + 0.1112 x - 0.2598 x + 0.3069 x - 2\n",
            "[-2.69695838987028 -2.82506939359018 -2.67669356914092 -2.41615649059626\n",
            " -2.16805005518570 -2.00000000000000 -1.90819503109776 -1.80669647531468\n",
            " -1.51989228666201 -0.775489642514083 0.806762425837045]\n"
          ]
        },
        {
          "output_type": "display_data",
          "data": {
            "image/png": "[encoded data removed]",
            "text/plain": [
              "<Figure size 432x288 with 1 Axes>"
            ]
          },
          "metadata": {
            "needs_background": "light"
          }
        },
        {
          "output_type": "display_data",
          "data": {
            "text/plain": [
              "<Figure size 432x288 with 0 Axes>"
            ]
          },
          "metadata": {}
        }
      ]
    },
    {
      "cell_type": "code",
      "metadata": {
        "id": "9R2PoV3in7uH"
      },
      "source": [
        ""
      ],
      "execution_count": null,
      "outputs": []
    }
  ]
}