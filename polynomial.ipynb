{
  "nbformat": 4,
  "nbformat_minor": 0,
  "metadata": {
    "colab": {
      "name": "polynomial.ipynb",
      "provenance": []
    },
    "kernelspec": {
      "name": "python3",
      "display_name": "Python 3"
    },
    "language_info": {
      "name": "python"
    }
  },
  "cells": [
    {
      "cell_type": "code",
      "metadata": {
        "id": "gAYgRfvEuJ74"
      },
      "source": [
        "def index_in_list(a_list, index):\n",
        "    return (index < len(a_list))\n",
        "  "
      ],
      "execution_count": 2,
      "outputs": []
    },
    {
      "cell_type": "code",
      "metadata": {
        "colab": {
          "base_uri": "https://localhost:8080/",
          "height": 1000
        },
        "id": "E6ciJZo8t0DI",
        "outputId": "d143aada-68ca-4ec3-9321-c6867aa5964e"
      },
      "source": [
        "from math import exp as e\n",
        "from math import cos as cos\n",
        "import math\n",
        "from sympy import *\n",
        "from math import *\n",
        "from __future__ import division\n",
        "from sympy import *\n",
        "import matplotlib.pyplot as plt\n",
        "import numpy as np\n",
        "from scipy.interpolate import lagrange\n",
        "from scipy.interpolate import splrep\n",
        "from scipy import interpolate\n",
        "\n",
        "'''This code is to input the function, compute x values according to the given n\n",
        " and the y values of that function against those values'''\n",
        "\n",
        "fx = '(exp(x) + 2**-x+ 2*cos(x) - 6)'\n",
        "f= lambda x: eval(fx)\n",
        "interval_start= input(\"enter starting point: \")\n",
        "interval_end= input(\"enter ending point: \")\n",
        "n= int(input(\"enter n: \"))\n",
        "x=[]\n",
        "y_values=[]\n",
        "difference= (int(interval_end) - int(interval_start))/int(n)\n",
        "for i in range(n+1):\n",
        "  x.append(int(interval_start) + i*difference)\n",
        "for i in x:\n",
        "  y_values.append(f(i))\n",
        "\n",
        "\n",
        "'''This peice of code is to form the lagrange polynomial of the equation'''\n",
        "poly = lagrange(x, y_values)\n",
        "print(poly)\n",
        "lang_vals=poly(x)\n",
        "\n",
        "'''This peice of code is to form the cubic Spline function against the equation  values'''\n",
        "c_s=splrep(x,y_values,s=0)\n",
        "ynew = interpolate.splev(x, c_s, der=0)\n",
        "\n",
        "\"\"\"This peice of code is to create a divided difference table in the TxT file\"\"\"\n",
        "x_increment=0\n",
        "dict = {'y':y_values}\n",
        "diff = []\n",
        "count = 0\n",
        "while True:\n",
        " length = len(y_values)\n",
        " if length == 0:\n",
        "   break\n",
        " for i in range(len(y_values)-1):\n",
        "   diff.append(((y_values[i+1]-y_values[i])/(x[i+1+x_increment]-x[i])))\n",
        " \n",
        " y_values = diff\n",
        " diff=[]\n",
        " dict['y'+str(count)] = y_values\n",
        " count+=1\n",
        " x_increment+=1\n",
        "\n",
        "file2 = open(\"Divied_Difference_Table.txt\",\"w\")\n",
        "file2.write(\"x                                             \")\n",
        "print(x)\n",
        "'''for i in range(len(x)):\n",
        "  file2.write(str(x[i])+\"\\n\")'''\n",
        "for key in dict.keys():\n",
        "  file2.write(str(key) + \"                                             \")\n",
        "\n",
        "file2 = open(\"Divied_Difference_Table.txt\",\"a\")\n",
        "file2.write(\"\\n\")\n",
        "counter=0\n",
        "while counter<len(dict)-1:\n",
        "  file2.write(str(x[counter])+\"                                    \")\n",
        "  for data in dict.keys():\n",
        "    if (index_in_list(dict[data],counter)==True):\n",
        "     file2.write(str(dict[data][counter])+ \"                      \")\n",
        "  file2.write(\"\\n\")\n",
        "  counter+=1\n",
        "\n",
        "'''This peice of code is to show graphs of each equations seperately and a \n",
        "graph showing their comparisions also'''\n",
        "\n",
        "'''Shows the function Graph'''\n",
        "plt.plot(x,dict['y'],'gs-',  label='F(x)')\n",
        "plt.title(\"Polynomial Function\")\n",
        "plt.xlabel(\"X values\")\n",
        "plt.ylabel(\"F(x)\")\n",
        "plt.show()\n",
        "plt.clf()\n",
        "'''Shows the lagrange graph'''\n",
        "plt.plot(x,lang_vals, 'yo-', label='Langrange')\n",
        "plt.title(\"Langrange Plot\")\n",
        "plt.xlabel(\"X values\")\n",
        "plt.ylabel(\"F(x)\")\n",
        "plt.show()\n",
        "plt.clf()\n",
        "\n",
        "'''Shows the cubic Spline graph'''\n",
        "plt.plot(x,ynew, 'bo-', label='Langrange')\n",
        "plt.title(\"Cubic Spline\")\n",
        "plt.xlabel(\"X values\")\n",
        "plt.ylabel(\"F(x)\")\n",
        "plt.show()\n",
        "plt.clf()\n",
        "\n",
        "'''Shows the comaprision of all graphs'''\n",
        "plt.plot(x,dict['y'],'gs-',  label='F(x)')\n",
        "plt.plot(x,lang_vals, 'yo-', label='Langrange')\n",
        "plt.plot(x,ynew, 'bo-', label='Langrange')\n",
        "plt.title(\"Comparision\")\n",
        "plt.xlabel(\"X values\")\n",
        "plt.ylabel(\"F(x)\")\n",
        "plt.show()\n",
        "plt.clf()\n"
      ],
      "execution_count": 6,
      "outputs": [
        {
          "output_type": "stream",
          "name": "stdout",
          "text": [
            "enter starting point: -2\n",
            "enter ending point: 2\n",
            "enter n: 100\n",
            "           100           99          98         97       96        95\n",
            "0.0006098 x   - 0.02312 x  + 0.7749 x  - 22.75 x  + 489 x  - 7419 x \n",
            "              94             93             92             91\n",
            " + 8.182e+04 x  - 6.854e+05 x  + 4.502e+06 x  - 2.195e+07 x \n",
            "              90             89             88             87\n",
            " + 3.537e+07 x  + 9.095e+08 x  - 1.521e+10 x  + 1.537e+11 x \n",
            "              86             85             84             83\n",
            " - 1.194e+12 x  + 7.661e+12 x  - 4.232e+13 x  + 2.075e+14 x \n",
            "              82           81             80             79\n",
            " - 9.246e+14 x  + 3.8e+15 x  - 1.449e+16 x  + 5.116e+16 x \n",
            "              78             77             76             75\n",
            " - 1.669e+17 x  + 5.025e+17 x  - 1.405e+18 x  + 3.701e+18 x \n",
            "              74            73            72             71\n",
            " - 9.372e+18 x  + 2.33e+19 x  - 5.75e+19 x  + 1.399e+20 x \n",
            "              70             69             68             67\n",
            " - 3.295e+20 x  + 7.352e+20 x  - 1.527e+21 x  + 2.913e+21 x \n",
            "              66            65             64             63\n",
            " - 5.063e+21 x  + 7.96e+21 x  - 1.124e+22 x  + 1.412e+22 x \n",
            "              62             61             60             59\n",
            " - 1.557e+22 x  + 1.472e+22 x  - 1.137e+22 x  + 6.347e+21 x \n",
            "              58             57             56             55\n",
            " - 1.244e+21 x  - 2.266e+21 x  + 3.297e+21 x  - 2.219e+21 x \n",
            "              54             53             52             51\n",
            " + 4.042e+20 x  + 5.961e+20 x  + 9.636e+19 x  - 2.308e+21 x \n",
            "              50             49             48             47\n",
            " + 5.067e+21 x  - 7.234e+21 x  + 8.083e+21 x  - 7.529e+21 x \n",
            "              46             45             44             43\n",
            " + 5.999e+21 x  - 4.114e+21 x  + 2.396e+21 x  - 1.127e+21 x \n",
            "              42             41             40            39\n",
            " + 3.562e+20 x  + 1.697e+19 x  - 1.387e+20 x  + 1.37e+20 x \n",
            "              38             37             36             35\n",
            " - 9.506e+19 x  + 5.369e+19 x  - 2.573e+19 x  + 1.055e+19 x \n",
            "              34             33             32             31\n",
            " - 3.669e+18 x  + 1.039e+18 x  - 2.112e+17 x  + 1.176e+16 x \n",
            "              30             29             28             27\n",
            " + 1.473e+16 x  - 9.221e+15 x  + 3.625e+15 x  - 1.127e+15 x \n",
            "              26             25             24             23\n",
            " + 2.947e+14 x  - 6.622e+13 x  + 1.281e+13 x  - 2.098e+12 x \n",
            "              22             21             20             19\n",
            " + 2.752e+11 x  - 2.351e+10 x  - 6.257e+08 x  + 8.001e+08 x \n",
            "              18            17             16            15\n",
            " - 2.089e+08 x  + 3.81e+07 x  - 5.493e+06 x  + 6.41e+05 x \n",
            "             14        13         12         11           10\n",
            " - 5.99e+04 x  + 4313 x  - 218.5 x  + 5.879 x  + 0.04657 x \n",
            "              9            8             7            6         5\n",
            " + 0.0002581 x - 0.001908 x + 0.0004217 x - 0.001249 x + 0.007 x\n",
            "           4          3          2\n",
            " + 0.1346 x + 0.1112 x - 0.2598 x + 0.3069 x - 2\n",
            "[-2.0, -1.96, -1.92, -1.88, -1.84, -1.8, -1.76, -1.72, -1.68, -1.6400000000000001, -1.6, -1.56, -1.52, -1.48, -1.44, -1.4, -1.3599999999999999, -1.3199999999999998, -1.28, -1.24, -1.2, -1.1600000000000001, -1.12, -1.08, -1.04, -1.0, -0.96, -0.9199999999999999, -0.8799999999999999, -0.8400000000000001, -0.8, -0.76, -0.72, -0.6799999999999999, -0.6399999999999999, -0.5999999999999999, -0.56, -0.52, -0.48, -0.43999999999999995, -0.3999999999999999, -0.3599999999999999, -0.32000000000000006, -0.28, -0.24, -0.19999999999999996, -0.15999999999999992, -0.11999999999999988, -0.08000000000000007, -0.040000000000000036, 0.0, 0.040000000000000036, 0.08000000000000007, 0.1200000000000001, 0.16000000000000014, 0.20000000000000018, 0.2400000000000002, 0.28000000000000025, 0.31999999999999984, 0.3599999999999999, 0.3999999999999999, 0.43999999999999995, 0.48, 0.52, 0.56, 0.6000000000000001, 0.6400000000000001, 0.6800000000000002, 0.7200000000000002, 0.7600000000000002, 0.8000000000000003, 0.8399999999999999, 0.8799999999999999, 0.9199999999999999, 0.96, 1.0, 1.04, 1.08, 1.12, 1.1600000000000001, 1.2000000000000002, 1.2400000000000002, 1.2800000000000002, 1.3200000000000003, 1.3599999999999999, 1.4, 1.44, 1.48, 1.52, 1.56, 1.6, 1.6400000000000001, 1.6800000000000002, 1.7200000000000002, 1.7600000000000002, 1.8000000000000003, 1.8399999999999999, 1.88, 1.92, 1.96, 2.0]\n"
          ]
        },
        {
          "output_type": "display_data",
          "data": {
            "image/png": "[encoded data removed]",
            "text/plain": [
              "<Figure size 432x288 with 1 Axes>"
            ]
          },
          "metadata": {
            "needs_background": "light"
          }
        },
        {
          "output_type": "display_data",
          "data": {
            "image/png": "[encoded data removed]",
            "text/plain": [
              "<Figure size 432x288 with 1 Axes>"
            ]
          },
          "metadata": {
            "needs_background": "light"
          }
        },
        {
          "output_type": "display_data",
          "data": {
            "image/png": "[encoded data removed]",
            "text/plain": [
              "<Figure size 432x288 with 1 Axes>"
            ]
          },
          "metadata": {
            "needs_background": "light"
          }
        },
        {
          "output_type": "display_data",
          "data": {
            "image/png": "[encoded data removed]",
            "text/plain": [
              "<Figure size 432x288 with 1 Axes>"
            ]
          },
          "metadata": {
            "needs_background": "light"
          }
        },
        {
          "output_type": "display_data",
          "data": {
            "text/plain": [
              "<Figure size 432x288 with 0 Axes>"
            ]
          },
          "metadata": {}
        }
      ]
    },
    {
      "cell_type": "code",
      "metadata": {
        "id": "hcRaLfEUuKYt"
      },
      "source": [
        ""
      ],
      "execution_count": null,
      "outputs": []
    }
  ]
}